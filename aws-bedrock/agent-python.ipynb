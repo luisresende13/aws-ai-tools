{
 "cells": [
  {
   "cell_type": "markdown",
   "id": "1a1f6d7c-33a1-4ce7-9cec-a5d7b95745da",
   "metadata": {},
   "source": [
    "# Agents for Amazon Bedrock Runtime"
   ]
  },
  {
   "cell_type": "markdown",
   "id": "dd15c14c-9b54-49d5-9e99-1104a3350972",
   "metadata": {},
   "source": [
    "# MISSING:\n",
    "- EXAMPLE FOR FLOW USE\n",
    "- EXAMPLES FOR RETRIEVE AND QUERY RELATED METHODS"
   ]
  },
  {
   "cell_type": "markdown",
   "id": "970fdfcb-5458-406e-a996-fe090f43fbeb",
   "metadata": {},
   "source": [
    "### Summary\n",
    "\n",
    "The following actions are supported by Agents for Amazon Bedrock Runtime:\n",
    "\n",
    "- [ ] DeleteAgentMemory\n",
    "- [ ] GenerateQuery\n",
    "- [ ] GetAgentMemory\n",
    "- [x] InvokeAgent\n",
    "- [ ] InvokeFlow\n",
    "- [x] InvokeInlineAgent\n",
    "- [ ] OptimizePrompt\n",
    "- [ ] Rerank\n",
    "- [X] Retrieve\n",
    "- [ ] RetrieveAndGenerate\n",
    "- [ ] RetrieveAndGenerateStream"
   ]
  },
  {
   "cell_type": "markdown",
   "id": "abf53aa9-5b39-4df3-b460-cf79e65a046c",
   "metadata": {},
   "source": [
    "#### Pre-requisites for knowledge base with structured data store\n",
    "\n",
    "The following two pre-requisites are required for an agent to access a knowledge base with structured data store. Both steps relate to the agent service role, usually created automatically when the agent is created in the console.\n",
    "\n",
    "Documentation: [Prerequisites for creating an Amazon Bedrock knowledge base with a structured data store\n",
    "](https://docs.aws.amazon.com/bedrock/latest/userguide/knowledge-base-prereq-structured.html)\n",
    "\n",
    "Documentation Sections Required:\n",
    "- Attach permissions to your user role:\n",
    "    - Allow a role to query a knowledge base connected to a structured data store\n",
    "- Grant database access to the role you use for authentication\n",
    "\n",
    "Note: To test the knowledge base chat in the console, only the second step is required, using the knowledge base role. Both steps are required for the agent chat in the console or in the python sdk.\n",
    "\n"
   ]
  },
  {
   "cell_type": "markdown",
   "id": "9e427e52-62ee-47ba-a9f0-aabd111a3c29",
   "metadata": {},
   "source": [
    "#### Utility Functions"
   ]
  },
  {
   "cell_type": "code",
   "execution_count": 1,
   "id": "5b93916f-4c5e-48a5-a170-b82be556e79c",
   "metadata": {},
   "outputs": [],
   "source": [
    "import json\n",
    "\n",
    "def decode_response(response):\n",
    "    if \"completion\" not in response:\n",
    "        raise Exception('Completion not found in response')\n",
    "    \n",
    "    events = []\n",
    "    for event in response[\"completion\"]:\n",
    "        if 'chunk' in event:\n",
    "            chunk = event[\"chunk\"]\n",
    "            part = chunk[\"bytes\"].decode()\n",
    "            event['chunk'][\"bytes\"] = part\n",
    "\n",
    "        events.append(event)\n",
    "\n",
    "    return events"
   ]
  },
  {
   "cell_type": "markdown",
   "id": "28666335-78c1-4946-bcec-ec53036b09d5",
   "metadata": {},
   "source": [
    "#### Initialize Client"
   ]
  },
  {
   "cell_type": "code",
   "execution_count": 2,
   "id": "b54598b3-0420-40c5-ba52-ec7d9495eb91",
   "metadata": {},
   "outputs": [],
   "source": [
    "import boto3\n",
    "\n",
    "client = boto3.client(service_name=\"bedrock-agent-runtime\", region_name=\"us-east-1\")\n",
    "\n",
    "# agent_id = 'H8ZINCAXLU' # test-temp\n",
    "# agent_alias_id = 'QA9EFCM1HG' # agent-test-temp-alias1\n",
    "\n",
    "agent_id = 'GBWMWST3UX' # test-temp-structured\n",
    "agent_alias_id = 'RI47ABAL41' # version-1-2"
   ]
  },
  {
   "cell_type": "markdown",
   "id": "bd481a8f-930d-4e0c-8313-b3e6ff03a8aa",
   "metadata": {},
   "source": [
    "---\n",
    "### Invoke Inline Agent"
   ]
  },
  {
   "cell_type": "code",
   "execution_count": null,
   "id": "9ce1c2c3-d7c1-4840-9e1a-9a409bf8be97",
   "metadata": {},
   "outputs": [],
   "source": [
    "response = client.invoke_inline_agent(\n",
    "    sessionId='uniqueSessionId',\n",
    "    inputText=\"What are the main three entities of the database?\",\n",
    "    endSession=False,\n",
    "    enableTrace=True,\n",
    "    foundationModel='anthropic.claude-3-haiku-20240307-v1:0',\n",
    "    instruction=\"You are a helpful assistant that queries data and provides useful responses.\",\n",
    "    knowledgeBases=[{\n",
    "        'knowledgeBaseId': \"WX8MP7WFBI\",\n",
    "        'description': 'Use this KB to get all the info',\n",
    "    }],\n",
    ")"
   ]
  },
  {
   "cell_type": "markdown",
   "id": "9aa3bbf9-492b-412f-a8e5-2ef4245a4af1",
   "metadata": {},
   "source": [
    "#### Display Response Format"
   ]
  },
  {
   "cell_type": "code",
   "execution_count": 5,
   "id": "2a7ca099-e630-4ffc-bcc2-6edff6092863",
   "metadata": {},
   "outputs": [
    {
     "data": {
      "text/plain": [
       "{'ResponseMetadata': {'RequestId': 'ace7fc3f-37d7-4ebb-806e-4bb6d27b0767',\n",
       "  'HTTPStatusCode': 200,\n",
       "  'HTTPHeaders': {'date': 'Wed, 29 Jan 2025 14:56:18 GMT',\n",
       "   'content-type': 'application/vnd.amazon.eventstream',\n",
       "   'transfer-encoding': 'chunked',\n",
       "   'connection': 'keep-alive',\n",
       "   'x-amzn-requestid': 'ace7fc3f-37d7-4ebb-806e-4bb6d27b0767',\n",
       "   'x-amz-bedrock-agent-session-id': 'uniqueSessionId',\n",
       "   'x-amzn-bedrock-agent-content-type': 'application/json'},\n",
       "  'RetryAttempts': 0},\n",
       " 'contentType': 'application/json',\n",
       " 'sessionId': 'uniqueSessionId',\n",
       " 'completion': <botocore.eventstream.EventStream at 0x77fab7f03800>}"
      ]
     },
     "execution_count": 5,
     "metadata": {},
     "output_type": "execute_result"
    }
   ],
   "source": [
    "response"
   ]
  },
  {
   "cell_type": "markdown",
   "id": "e513fcc1-44ea-4df4-bf84-1ec29bb710b5",
   "metadata": {},
   "source": [
    "#### Display Trace"
   ]
  },
  {
   "cell_type": "code",
   "execution_count": null,
   "id": "a2bcea8f-8a19-4fd5-9356-03e5a9917e8e",
   "metadata": {},
   "outputs": [],
   "source": [
    "events = decode_response(response)\n",
    "events"
   ]
  },
  {
   "cell_type": "markdown",
   "id": "dbd78f64-f074-4764-bc40-fba02b9f57fb",
   "metadata": {},
   "source": [
    "#### Final Response"
   ]
  },
  {
   "cell_type": "code",
   "execution_count": 31,
   "id": "e9aaeb77-fd66-43da-8f31-21e724d4aa93",
   "metadata": {},
   "outputs": [
    {
     "data": {
      "text/plain": [
       "'Based on the search results, the three main entities of the database appear to be:\\n\\n1. document\\n2. document_entity\\n3. entity_statistics'"
      ]
     },
     "execution_count": 31,
     "metadata": {},
     "output_type": "execute_result"
    }
   ],
   "source": [
    "final_response = events[-1]['chunk']['bytes']\n",
    "final_response"
   ]
  },
  {
   "cell_type": "markdown",
   "id": "663a76ad-4818-4a38-97d8-53abbcf23c2b",
   "metadata": {},
   "source": [
    "---\n",
    "### Invoke Agent"
   ]
  },
  {
   "cell_type": "code",
   "execution_count": 5,
   "id": "91118873-3bed-4a51-8bd2-db3025c2c2d7",
   "metadata": {},
   "outputs": [],
   "source": [
    "session_id = 'test1'\n",
    "\n",
    "response = client.invoke_agent(\n",
    "    agentAliasId=agent_alias_id,\n",
    "    agentId=agent_id,\n",
    "    sessionId=session_id,\n",
    "    enableTrace=False,\n",
    "    inputText='what are the three main entities of the database?',\n",
    "    # bedrockModelConfigurations={\n",
    "    #     'performanceConfig': {\n",
    "    #         'latency': 'standard'\n",
    "    #     }\n",
    "    # },\n",
    "    # endSession=False,\n",
    "    # memoryId='string',\n",
    "    # sourceArn='string',\n",
    ")\n",
    "\n",
    "# Display answer'\n",
    "events = decode_response(response)\n",
    "final_response = events[-1]['chunk']['bytes']\n",
    "final_response"
   ]
  },
  {
   "attachments": {},
   "cell_type": "markdown",
   "id": "090eadfb-5592-40b7-863f-a19579fdab97",
   "metadata": {},
   "source": [
    "### Invoke Agent - Structured"
   ]
  },
  {
   "cell_type": "code",
   "execution_count": 4,
   "id": "46061fa0-96a3-4c66-8594-7e015a0035ba",
   "metadata": {},
   "outputs": [
    {
     "data": {
      "text/plain": [
       "\"The available data consists of two records, each containing three columns: col1, col2, and col3. The first two columns (col1 and col2) contain long integer values, while the third column (col3) contains string values. The first record has values 1, 2, and 'a' for col1, col2, and col3 respectively. The second record has values 3, 4, and 'b' for the same columns.\""
      ]
     },
     "execution_count": 4,
     "metadata": {},
     "output_type": "execute_result"
    }
   ],
   "source": [
    "session_id = 'test6'\n",
    "\n",
    "response = client.invoke_agent(\n",
    "    agentAliasId=agent_alias_id,\n",
    "    agentId=agent_id,\n",
    "    sessionId=session_id,\n",
    "    enableTrace=True,\n",
    "    inputText='Report on the available data',\n",
    "    # bedrockModelConfigurations={\n",
    "    #     'performanceConfig': {\n",
    "    #         'latency': 'standard'\n",
    "    #     }\n",
    "    # },\n",
    "    # endSession=False,\n",
    "    # memoryId='string',\n",
    "    # sourceArn='string',\n",
    ")\n",
    "\n",
    "# Display answer'\n",
    "events = decode_response(response)\n",
    "final_response = events[-1]['chunk']['bytes']\n",
    "final_response"
   ]
  },
  {
   "cell_type": "markdown",
   "id": "1a2dceeb-7519-43a5-ad91-27604dd733f8",
   "metadata": {},
   "source": [
    "---\n",
    "### Continue the Conversation"
   ]
  },
  {
   "attachments": {},
   "cell_type": "markdown",
   "id": "eacba89b-828b-4e55-b311-16557e8be420",
   "metadata": {},
   "source": [
    "Use the same session id."
   ]
  },
  {
   "cell_type": "code",
   "execution_count": 32,
   "id": "3f153f8f-b1d0-4bfe-9819-c204284c7766",
   "metadata": {},
   "outputs": [
    {
     "data": {
      "text/plain": [
       "'Sorry, I am unable to assist you with this request.'"
      ]
     },
     "execution_count": 32,
     "metadata": {},
     "output_type": "execute_result"
    }
   ],
   "source": [
    "response = client.invoke_agent(\n",
    "    agentAliasId=agent_alias_id,\n",
    "    agentId=agent_id,\n",
    "    sessionId=session_id,\n",
    "    enableTrace=True,\n",
    "    inputText='Which entity did you choose on your previous answer in the conversation history?',\n",
    "    # bedrockModelConfigurations={\n",
    "    #     'performanceConfig': {\n",
    "    #         'latency': 'standard'\n",
    "    #     }\n",
    "    # },\n",
    "    # endSession=False,\n",
    "    # memoryId='string',\n",
    "    # sourceArn='string',\n",
    ")\n",
    "\n",
    "events = decode_response(response)\n",
    "final_response = events[-1]['chunk']['bytes']\n",
    "final_response"
   ]
  },
  {
   "cell_type": "markdown",
   "id": "f41ec938-802d-400d-8b4a-089c5d898def",
   "metadata": {},
   "source": [
    "---\n",
    "### Use Conversation History with `Session State`"
   ]
  },
  {
   "cell_type": "code",
   "execution_count": 121,
   "id": "f38c94f5-5daf-4726-a84c-55c33f7ea363",
   "metadata": {},
   "outputs": [],
   "source": [
    "session_state = {\n",
    "    'conversationHistory': {\n",
    "        'messages': [\n",
    "            {\n",
    "                'content': [\n",
    "                    {\n",
    "                        'text': 'The password is \"abc1def2\". Memorize it.'\n",
    "                    },\n",
    "                ],\n",
    "                'role': 'user'\n",
    "            },\n",
    "            {\n",
    "                'content': [\n",
    "                    {\n",
    "                        'text': 'Ok, I have memorized it. The password is \"abc1def2\".'\n",
    "                    },\n",
    "                ],\n",
    "                'role': 'assistant'\n",
    "            },\n",
    "            # { # Commented since the last message should be passed to 'inputText' parameter below\n",
    "            #     'content': [\n",
    "            #         {\n",
    "            #             'text': 'What is the password I asked you to memorize?'\n",
    "            #         },\n",
    "            #     ],\n",
    "            #     'role': 'user'\n",
    "            # }\n",
    "        ]\n",
    "    },\n",
    "}\n",
    "\n",
    "response = client.invoke_agent(\n",
    "    agentAliasId=agent_alias_id,\n",
    "    agentId=agent_id,\n",
    "    sessionId='test1234567891',\n",
    "    enableTrace=True,\n",
    "    inputText='What is the password I asked you to memorize? Dont search the knowledge base. Only look at our conversation.',\n",
    "    sessionState=session_state,\n",
    ")\n",
    "\n",
    "events = decode_response(response)\n",
    "final_response = events[-1]['chunk']['bytes']\n",
    "final_response"
   ]
  },
  {
   "cell_type": "markdown",
   "id": "86fa5d71-41b5-47d9-b673-5d1ada987956",
   "metadata": {},
   "source": [
    "---\n",
    "### Retrieve from Knowledge Base"
   ]
  },
  {
   "cell_type": "code",
   "execution_count": 5,
   "id": "5bb8b2ce-481c-4f87-ad3a-50f1b3af5a21",
   "metadata": {},
   "outputs": [
    {
     "name": "stdout",
     "output_type": "stream",
     "text": [
      "[\n",
      "  {\n",
      "    \"content\": {\n",
      "      \"row\": [\n",
      "        {\n",
      "          \"columnName\": \"col1\",\n",
      "          \"columnValue\": \"1\",\n",
      "          \"type\": \"LONG\"\n",
      "        },\n",
      "        {\n",
      "          \"columnName\": \"col2\",\n",
      "          \"columnValue\": \"2\",\n",
      "          \"type\": \"LONG\"\n",
      "        },\n",
      "        {\n",
      "          \"columnName\": \"col3\",\n",
      "          \"columnValue\": \"a\",\n",
      "          \"type\": \"STRING\"\n",
      "        }\n",
      "      ],\n",
      "      \"type\": \"ROW\"\n",
      "    },\n",
      "    \"location\": {\n",
      "      \"sqlLocation\": {\n",
      "        \"query\": \"SELECT * FROM public.\\\"table-test\\\";\"\n",
      "      },\n",
      "      \"type\": \"SQL\"\n",
      "    }\n",
      "  },\n",
      "  {\n",
      "    \"content\": {\n",
      "      \"row\": [\n",
      "        {\n",
      "          \"columnName\": \"col1\",\n",
      "          \"columnValue\": \"3\",\n",
      "          \"type\": \"LONG\"\n",
      "        },\n",
      "        {\n",
      "          \"columnName\": \"col2\",\n",
      "          \"columnValue\": \"4\",\n",
      "          \"type\": \"LONG\"\n",
      "        },\n",
      "        {\n",
      "          \"columnName\": \"col3\",\n",
      "          \"columnValue\": \"b\",\n",
      "          \"type\": \"STRING\"\n",
      "        }\n",
      "      ],\n",
      "      \"type\": \"ROW\"\n",
      "    },\n",
      "    \"location\": {\n",
      "      \"sqlLocation\": {\n",
      "        \"query\": \"SELECT * FROM public.\\\"table-test\\\";\"\n",
      "      },\n",
      "      \"type\": \"SQL\"\n",
      "    }\n",
      "  }\n",
      "]\n"
     ]
    }
   ],
   "source": [
    "import boto3\n",
    "\n",
    "client = boto3.client(service_name=\"bedrock-agent-runtime\", region_name=\"us-east-1\")\n",
    "\n",
    "# agent_id = 'H8ZINCAXLU'\n",
    "# agent_alias_id = 'QA9EFCM1HG' # agent-test-temp-alias1\n",
    "# knowledge_base_id = 'WX8MP7WFBI'\n",
    "knowledge_base_id = 'VGYT6EXGXM' # structured data store\n",
    "\n",
    "response = client.retrieve(\n",
    "    knowledgeBaseId=knowledge_base_id,\n",
    "    retrievalQuery={\n",
    "        'text': 'Report on the data available'\n",
    "    }\n",
    ")\n",
    "\n",
    "import json\n",
    "print(json.dumps(response['retrievalResults'], indent=2))"
   ]
  },
  {
   "cell_type": "markdown",
   "id": "e82557fb-7f49-4fe2-a322-cc1a275277e1",
   "metadata": {},
   "source": [
    "### Generate SQL Query"
   ]
  },
  {
   "cell_type": "code",
   "execution_count": null,
   "id": "960cfc02-e4ab-40a1-b200-b83e8c9b5db2",
   "metadata": {},
   "outputs": [],
   "source": [
    "response = client.generate_query(\n",
    "    queryGenerationInput={\n",
    "        'text': 'how many rows the test table have?',\n",
    "        'type': 'TEXT'\n",
    "    },\n",
    "    transformationConfiguration={\n",
    "        'mode': 'TEXT_TO_SQL',\n",
    "        'textToSqlConfiguration': {\n",
    "            'knowledgeBaseConfiguration': {\n",
    "                'knowledgeBaseArn': 'arn:aws:iam::654395624723:role/service-role/AmazonBedrockExecutionRoleForKnowledgeBase_c4h5j'\n",
    "            },\n",
    "            'type': 'KNOWLEDGE_BASE'\n",
    "        }\n",
    "    }\n",
    ")"
   ]
  }
 ],
 "metadata": {
  "kernelspec": {
   "display_name": "Python 3 (ipykernel)",
   "language": "python",
   "name": "python3"
  },
  "language_info": {
   "codemirror_mode": {
    "name": "ipython",
    "version": 3
   },
   "file_extension": ".py",
   "mimetype": "text/x-python",
   "name": "python",
   "nbconvert_exporter": "python",
   "pygments_lexer": "ipython3",
   "version": "3.12.3"
  }
 },
 "nbformat": 4,
 "nbformat_minor": 5
}
