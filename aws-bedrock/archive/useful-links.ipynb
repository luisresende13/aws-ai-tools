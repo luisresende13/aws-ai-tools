{
 "cells": [
  {
   "cell_type": "markdown",
   "id": "ce6f2844-be68-43a8-ae77-330585fa993c",
   "metadata": {},
   "source": [
    "# General Documentation"
   ]
  },
  {
   "cell_type": "markdown",
   "id": "d8813504-e281-4633-ac78-a04455a40365",
   "metadata": {},
   "source": [
    "### [AWS SDK for Python (Boto3) Documentation](https://docs.aws.amazon.com/pythonsdk/)\n",
    "\n",
    "The AWS SDK for Python (Boto3) provides a Python API for AWS infrastructure services. Using the SDK for Python, you can build applications on top of Amazon S3, Amazon EC2, Amazon DynamoDB, and more."
   ]
  },
  {
   "cell_type": "markdown",
   "id": "b1cf8f7e-b0f6-4138-b749-3b1ef5218dbd",
   "metadata": {},
   "source": [
    "### [AWS SDK for Python code examples](https://github.com/awsdocs/aws-doc-sdk-examples/tree/main/python)\n",
    "\n",
    "The code examples in this topic show you how to use the AWS SDK for Python (Boto3) with AWS.\n",
    "\n",
    "The AWS SDK for Python provides a Python API for AWS infrastructure services. Using the SDK, you can build applications on top of AWS services such as Amazon Simple Storage Service (Amazon S3), Amazon Elastic Compute Cloud (Amazon EC2), and Amazon DynamoDB."
   ]
  },
  {
   "cell_type": "markdown",
   "id": "cbcd32bf-207a-4a10-80c1-78538c770f0f",
   "metadata": {},
   "source": [
    "# Bedrock Documentation"
   ]
  },
  {
   "cell_type": "markdown",
   "id": "836e8a3a-c765-45fa-839d-883806dba005",
   "metadata": {},
   "source": [
    "### [Using Amazon Bedrock with an AWS SDK (CLI, Python, etc)](https://docs.aws.amazon.com/bedrock/latest/userguide/sdk-general-information-section.html)\n",
    "\n",
    "AWS software development kits (SDKs) are available for many popular programming languages. Each SDK provides an API, code examples, and documentation that make it easier for developers to build applications in their preferred language."
   ]
  },
  {
   "cell_type": "markdown",
   "id": "05c5c07a-7c5d-43f3-80cd-72dfe2d990aa",
   "metadata": {},
   "source": [
    "### [Amazon Bedrock Documentation](https://docs.aws.amazon.com/bedrock/)\n",
    "\n",
    "Amazon Bedrock is a fully managed service that makes it easy to use foundation models from third-party providers and Amazon. "
   ]
  },
  {
   "cell_type": "markdown",
   "id": "87bfdabc-6995-4295-9c7e-c0d0f2b550ce",
   "metadata": {},
   "source": [
    "### [Getting started with the API (Bedrock with Python)](https://docs.aws.amazon.com/bedrock/latest/userguide/getting-started-api.html)\n",
    "\n",
    "This section describes how to set up your environment to make Amazon Bedrock requests through the AWS API. AWS offers the following tools to streamline your experience:\n",
    "\n",
    "    AWS Command Line Interface (AWS CLI)\n",
    "\n",
    "    AWS SDKs\n",
    "\n",
    "    Amazon SageMaker AI notebooks\n"
   ]
  },
  {
   "cell_type": "markdown",
   "id": "7650584a-f968-46ca-bce9-7af66b05aef1",
   "metadata": {},
   "source": [
    "---\n",
    "# General documentation for trouble-shooting"
   ]
  },
  {
   "cell_type": "markdown",
   "id": "de3b9944-b333-4f19-a1d6-25c314a067b1",
   "metadata": {},
   "source": [
    "### [Identity-based policy examples for Amazon Bedrock](https://docs.aws.amazon.com/bedrock/latest/userguide/security_iam_id-based-policy-examples.html#security_iam_id-based-policy-examples-subscription)"
   ]
  },
  {
   "cell_type": "markdown",
   "id": "0e70d163-10ae-489f-aff6-ae8cdc417f63",
   "metadata": {},
   "source": [
    "By default, users and roles don't have permission to create or modify Amazon Bedrock resources. They also can't perform tasks by using the AWS Management Console, AWS Command Line Interface (AWS CLI), or AWS API. To grant users permission to perform actions on the resources that they need, an IAM administrator can create IAM policies. The administrator can then add the IAM policies to roles, and users can assume the roles."
   ]
  },
  {
   "cell_type": "markdown",
   "id": "5277d191-b076-4aa7-801f-19120315c592",
   "metadata": {},
   "source": [
    "### [Grant IAM permissions to request access to Amazon Bedrock foundation models](https://docs.aws.amazon.com/bedrock/latest/userguide/model-access-permissions.html)"
   ]
  },
  {
   "cell_type": "markdown",
   "id": "e57b688a-6294-4e53-8c72-ac2707dc110d",
   "metadata": {},
   "source": [
    "Before you can request access, or modify access, to Amazon Bedrock foundation models, you need to attach an identity-based IAM policy with the following AWS Marketplace actions to the IAM role that allows access to Amazon Bedrock:\n",
    "\n",
    "    aws-marketplace:Subscribe\n",
    "\n",
    "    aws-marketplace:Unsubscribe\n",
    "\n",
    "    aws-marketplace:ViewSubscriptions\n"
   ]
  }
 ],
 "metadata": {
  "kernelspec": {
   "display_name": "Python 3 (ipykernel)",
   "language": "python",
   "name": "python3"
  },
  "language_info": {
   "codemirror_mode": {
    "name": "ipython",
    "version": 3
   },
   "file_extension": ".py",
   "mimetype": "text/x-python",
   "name": "python",
   "nbconvert_exporter": "python",
   "pygments_lexer": "ipython3",
   "version": "3.12.3"
  }
 },
 "nbformat": 4,
 "nbformat_minor": 5
}
