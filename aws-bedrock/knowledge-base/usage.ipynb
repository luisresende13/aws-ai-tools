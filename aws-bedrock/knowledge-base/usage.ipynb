{
 "cells": [
  {
   "cell_type": "markdown",
   "id": "d845e129-db27-48da-bb8c-aa32818aad59",
   "metadata": {},
   "source": [
    "# Bedrock Knowledge Base Usage"
   ]
  },
  {
   "cell_type": "markdown",
   "id": "99653ca2-141c-428e-a7ce-fe455a1a1d17",
   "metadata": {},
   "source": [
    "### Summary\n",
    "\n",
    "The following actions are supported by 'Knowledge Bases' for Amazon Bedrock Runtime:\n",
    "\n",
    "- [ ] Rerank\n",
    "- [ ] GenerateQuery\n",
    "- [X] Retrieve\n",
    "- [ ] RetrieveAndGenerate\n",
    "- [ ] RetrieveAndGenerateStream"
   ]
  },
  {
   "cell_type": "markdown",
   "id": "7804e787-f0cb-4e12-94c6-e8b698b3ee38",
   "metadata": {},
   "source": [
    "#### Pre-requisites for knowledge base with structured data store\n",
    "\n",
    "The following two pre-requisites are required for an agent to access a knowledge base with structured data store. Both steps relate to the agent service role, usually created automatically when the agent is created in the console.\n",
    "\n",
    "Documentation: [Prerequisites for creating an Amazon Bedrock knowledge base with a structured data store\n",
    "](https://docs.aws.amazon.com/bedrock/latest/userguide/knowledge-base-prereq-structured.html)\n",
    "\n",
    "Documentation Sections Required:\n",
    "- Attach permissions to your user role:\n",
    "    - Allow a role to query a knowledge base connected to a structured data store\n",
    "- Grant database access to the role you use for authentication\n",
    "\n",
    "Note: To test the knowledge base chat in the console, only the second step is required, using the knowledge base role. Both steps are required for the agent chat in the console or in the python sdk.\n",
    "\n"
   ]
  },
  {
   "cell_type": "markdown",
   "id": "9ce99915-b55b-4e58-92cf-15d4689e3eb9",
   "metadata": {},
   "source": [
    "---\n",
    "### Retrieve"
   ]
  },
  {
   "cell_type": "code",
   "execution_count": 1,
   "id": "22b0eaf7-5ac9-43c0-95b9-c2cb1f07f422",
   "metadata": {},
   "outputs": [
    {
     "name": "stdout",
     "output_type": "stream",
     "text": [
      "[\n",
      "  {\n",
      "    \"content\": {\n",
      "      \"row\": [\n",
      "        {\n",
      "          \"columnName\": \"col1\",\n",
      "          \"columnValue\": \"1\",\n",
      "          \"type\": \"LONG\"\n",
      "        },\n",
      "        {\n",
      "          \"columnName\": \"col2\",\n",
      "          \"columnValue\": \"2\",\n",
      "          \"type\": \"LONG\"\n",
      "        },\n",
      "        {\n",
      "          \"columnName\": \"col3\",\n",
      "          \"columnValue\": \"a\",\n",
      "          \"type\": \"STRING\"\n",
      "        }\n",
      "      ],\n",
      "      \"type\": \"ROW\"\n",
      "    },\n",
      "    \"location\": {\n",
      "      \"sqlLocation\": {\n",
      "        \"query\": \"SELECT * FROM public.\\\"table-test\\\";\"\n",
      "      },\n",
      "      \"type\": \"SQL\"\n",
      "    }\n",
      "  },\n",
      "  {\n",
      "    \"content\": {\n",
      "      \"row\": [\n",
      "        {\n",
      "          \"columnName\": \"col1\",\n",
      "          \"columnValue\": \"3\",\n",
      "          \"type\": \"LONG\"\n",
      "        },\n",
      "        {\n",
      "          \"columnName\": \"col2\",\n",
      "          \"columnValue\": \"4\",\n",
      "          \"type\": \"LONG\"\n",
      "        },\n",
      "        {\n",
      "          \"columnName\": \"col3\",\n",
      "          \"columnValue\": \"b\",\n",
      "          \"type\": \"STRING\"\n",
      "        }\n",
      "      ],\n",
      "      \"type\": \"ROW\"\n",
      "    },\n",
      "    \"location\": {\n",
      "      \"sqlLocation\": {\n",
      "        \"query\": \"SELECT * FROM public.\\\"table-test\\\";\"\n",
      "      },\n",
      "      \"type\": \"SQL\"\n",
      "    }\n",
      "  }\n",
      "]\n"
     ]
    }
   ],
   "source": [
    "import boto3\n",
    "import json\n",
    "\n",
    "client = boto3.client(service_name=\"bedrock-agent-runtime\", region_name=\"us-east-1\")\n",
    "\n",
    "# knowledge_base_id = 'WX8MP7WFBI' # unstructured data store\n",
    "knowledge_base_id = 'VGYT6EXGXM' # structured data store\n",
    "\n",
    "response = client.retrieve(\n",
    "    knowledgeBaseId=knowledge_base_id,\n",
    "    retrievalQuery={\n",
    "        'text': 'Report on the data available'\n",
    "    }\n",
    ")\n",
    "\n",
    "print(json.dumps(response['retrievalResults'], indent=2))"
   ]
  },
  {
   "cell_type": "markdown",
   "id": "0cd8dd77-1f07-4a11-bccb-99fc681b54a3",
   "metadata": {},
   "source": [
    "### Generate SQL Query"
   ]
  },
  {
   "cell_type": "code",
   "execution_count": null,
   "id": "82d84fcd-7df8-46ae-a8b1-710f732005f6",
   "metadata": {},
   "outputs": [],
   "source": [
    "response = client.generate_query(\n",
    "    queryGenerationInput={\n",
    "        'text': 'how many rows the test table have?',\n",
    "        'type': 'TEXT'\n",
    "    },\n",
    "    transformationConfiguration={\n",
    "        'mode': 'TEXT_TO_SQL',\n",
    "        'textToSqlConfiguration': {\n",
    "            'knowledgeBaseConfiguration': {\n",
    "                'knowledgeBaseArn': 'arn:aws:iam::654395624723:role/service-role/AmazonBedrockExecutionRoleForKnowledgeBase_c4h5j'\n",
    "            },\n",
    "            'type': 'KNOWLEDGE_BASE'\n",
    "        }\n",
    "    }\n",
    ")"
   ]
  }
 ],
 "metadata": {
  "kernelspec": {
   "display_name": "Python 3 (ipykernel)",
   "language": "python",
   "name": "python3"
  },
  "language_info": {
   "codemirror_mode": {
    "name": "ipython",
    "version": 3
   },
   "file_extension": ".py",
   "mimetype": "text/x-python",
   "name": "python",
   "nbconvert_exporter": "python",
   "pygments_lexer": "ipython3",
   "version": "3.12.3"
  }
 },
 "nbformat": 4,
 "nbformat_minor": 5
}
