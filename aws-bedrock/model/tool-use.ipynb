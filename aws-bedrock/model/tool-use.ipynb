{
 "cells": [
  {
   "cell_type": "markdown",
   "id": "06f8f2c2-d590-48c1-adfa-416a3f6540b6",
   "metadata": {},
   "source": [
    "# Tool Use Example\n",
    "\n",
    "Example usage of `tool use` for converse method from Bedrock Runtime Python SDK"
   ]
  },
  {
   "cell_type": "markdown",
   "id": "131bc4dd-180a-403f-9fd3-802ae2877aec",
   "metadata": {},
   "source": [
    "#### Initialize client"
   ]
  },
  {
   "cell_type": "code",
   "execution_count": 1,
   "id": "10d7d455-a47d-4acb-8e87-ee176c67513b",
   "metadata": {},
   "outputs": [],
   "source": [
    "import json\n",
    "import boto3\n",
    "from botocore.exceptions import ClientError\n",
    "\n",
    "# Create an Amazon Bedrock Runtime client.\n",
    "client = boto3.client(\"bedrock-runtime\")"
   ]
  },
  {
   "cell_type": "markdown",
   "id": "fb9064c8-a9c6-42af-a56a-f30ea28a3aaf",
   "metadata": {},
   "source": [
    "#### Define tool function"
   ]
  },
  {
   "cell_type": "code",
   "execution_count": 2,
   "id": "63731fbd-6fa9-42e5-8a00-ce3ff10d268f",
   "metadata": {},
   "outputs": [],
   "source": [
    "class StationNotFoundError(Exception):\n",
    "    \"\"\"Raised when a radio station isn't found.\"\"\"\n",
    "    pass\n",
    "\n",
    "def get_top_song(call_sign):\n",
    "    song = \"\"\n",
    "    artist = \"\"\n",
    "    if call_sign == 'WZPZ':\n",
    "        song = \"Elemental Hotel\"\n",
    "        artist = \"8 Storey Hike\"\n",
    "\n",
    "    else:\n",
    "        raise StationNotFoundError(f\"Station {call_sign} not found.\")\n",
    "\n",
    "    return song, artist"
   ]
  },
  {
   "cell_type": "markdown",
   "id": "85bb4c8d-72b8-4512-a43a-a6284cb9598c",
   "metadata": {},
   "source": [
    "#### Define inputs"
   ]
  },
  {
   "cell_type": "code",
   "execution_count": 6,
   "id": "f28538c3-2d1f-49ae-b483-6f4315d37e00",
   "metadata": {},
   "outputs": [],
   "source": [
    "model_id = \"anthropic.claude-3-haiku-20240307-v1:0\"\n",
    "\n",
    "# Initial message from the user\n",
    "messages = [{\n",
    "    \"role\": \"user\",\n",
    "    \"content\": [{\"text\": \"What is the most popular song on WZPZ?\"}]\n",
    "}]\n",
    "\n",
    "tool_config = {\n",
    "    \"tools\": [{\n",
    "        \"toolSpec\": {\n",
    "            \"name\": \"top_song\",\n",
    "            \"description\": \"Get the most popular song played on a radio station.\",\n",
    "            \"inputSchema\": {\n",
    "                \"json\": {\n",
    "                    \"type\": \"object\",\n",
    "                    \"properties\": {\n",
    "                        \"sign\": {\n",
    "                            \"type\": \"string\",\n",
    "                            \"description\": \"The call sign for the radio station for which you want the most popular song. Example calls signs are WZPZ, and WKRP.\"\n",
    "                        }\n",
    "                    },\n",
    "                    \"required\": [\"sign\"]\n",
    "                }\n",
    "            }\n",
    "        }\n",
    "    }]\n",
    "}"
   ]
  },
  {
   "cell_type": "markdown",
   "id": "effc766c-d1d8-4dfa-83a1-163f36236218",
   "metadata": {},
   "source": [
    "#### First message and response"
   ]
  },
  {
   "cell_type": "code",
   "execution_count": 7,
   "id": "703c94ce-b428-4776-b6c0-b3426a6efdc1",
   "metadata": {},
   "outputs": [
    {
     "data": {
      "text/plain": [
       "[{'role': 'user',\n",
       "  'content': [{'text': 'What is the most popular song on WZPZ?'}]},\n",
       " {'role': 'assistant',\n",
       "  'content': [{'toolUse': {'toolUseId': 'tooluse_RE9pgLYKRMaviVRacRHTuA',\n",
       "     'name': 'top_song',\n",
       "     'input': {'sign': 'WZPZ'}}}]}]"
      ]
     },
     "execution_count": 7,
     "metadata": {},
     "output_type": "execute_result"
    }
   ],
   "source": [
    "response = client.converse(\n",
    "    modelId=model_id,\n",
    "    messages=messages,\n",
    "    toolConfig=tool_config\n",
    ")\n",
    "\n",
    "output_message = response['output']['message']\n",
    "stop_reason = response['stopReason']\n",
    "messages.append(output_message)\n",
    "\n",
    "messages"
   ]
  },
  {
   "cell_type": "markdown",
   "id": "4308668e-eda9-4d4c-9cfa-ded4bd2e1019",
   "metadata": {},
   "source": [
    "#### Use the tool when the model requests it"
   ]
  },
  {
   "attachments": {},
   "cell_type": "markdown",
   "id": "d81eff78-560d-4847-b287-39cbcad9a7af",
   "metadata": {},
   "source": [
    "# NEEDS BUG FIXING: This is wrong since the model output might contain multiple tool use requests\n",
    "\n",
    "# MISSING: BREAK THE NEXT SECTION INTO: 'Call the tool', 'Send tool result'"
   ]
  },
  {
   "cell_type": "code",
   "execution_count": null,
   "id": "4721a959-ae1a-4dcc-ace8-e276f3673d02",
   "metadata": {},
   "outputs": [
    {
     "name": "stdout",
     "output_type": "stream",
     "text": [
      "{\n",
      "    \"text\": \"The most popular song currently playing on radio station WZPZ is \\\"Elemental Hotel\\\" by the artist 8 Storey Hike.\"\n",
      "}\n",
      "\n",
      "Finished generating text with model anthropic.claude-3-haiku-20240307-v1:0.\n"
     ]
    }
   ],
   "source": [
    "if stop_reason == 'tool_use':\n",
    "    content = response['output']['message']['content']\n",
    "    \n",
    "    for part in content:\n",
    "        if 'toolUse' in part:\n",
    "            tool = part['toolUse']\n",
    "\n",
    "            if tool['name'] == 'top_song':\n",
    "                tool_result = {}\n",
    "                \n",
    "                try:\n",
    "                    song, artist = get_top_song(tool['input']['sign'])\n",
    "                    tool_result = {\n",
    "                        \"toolUseId\": tool['toolUseId'],\n",
    "                        \"content\": [{\"json\": {\"song\": song, \"artist\": artist}}]\n",
    "                    }\n",
    "                    \n",
    "                except StationNotFoundError as err:\n",
    "                    tool_result = {\n",
    "                        \"toolUseId\": tool['toolUseId'],\n",
    "                        \"content\": [{\"text\":  err.args[0]}],\n",
    "                        \"status\": 'error'\n",
    "                    }\n",
    "\n",
    "                message = {\n",
    "                    \"role\": \"user\",\n",
    "                    \"content\": [{\n",
    "                        \"toolResult\": tool_result\n",
    "                    }]\n",
    "                }\n",
    "                \n",
    "                messages.append(message)\n",
    "\n",
    "                # Send the tool result to the model.\n",
    "                response = client.converse(\n",
    "                    modelId=model_id,\n",
    "                    messages=messages,\n",
    "                    toolConfig=tool_config\n",
    "                )\n",
    "                output_message = response['output']['message']\n",
    "\n",
    "# print the final response from the model.\n",
    "for content in output_message['content']:\n",
    "    print(json.dumps(content, indent=4))"
   ]
  },
  {
   "cell_type": "markdown",
   "id": "c3582e84-065d-4445-a93a-873fe90fc35b",
   "metadata": {},
   "source": [
    "---\n",
    "### Multiple tool use requests in a single response from the model"
   ]
  },
  {
   "cell_type": "markdown",
   "id": "667e0860-818b-4948-81e6-4af1a7363a8e",
   "metadata": {},
   "source": [
    "Yes, the Bedrock Converse method with tool use can return a response message containing multiple toolUse objects.\n",
    "\n",
    "1. Multiple Tool Requests: The model can request the use of multiple tools in a single response if it determines that multiple tools are necessary to generate a comprehensive answer.\n",
    "\n",
    "2. Sequential Processing: When multiple tool requests are made, they are typically processed sequentially. You would need to handle each tool request one at a time, providing the results back to the model before it generates its final response.\n",
    "\n",
    "3. Response Structure: The response message will contain separate toolUse objects for each tool request. Each toolUse object will include details such as the tool name and input parameters required for that specific tool.\n",
    "\n",
    "4. Handling Multiple Tools: Your application should be prepared to:\n",
    "   - Identify multiple toolUse objects in the response\n",
    "   - Execute each requested tool\n",
    "   - Compile the results from all tools\n",
    "   - Send all tool results back to the model in a new Converse request\n",
    "\n",
    "5. Tool Result Message: When sending the results back, you can include multiple toolResult content blocks in your message, each corresponding to a different tool that was used.\n",
    "\n",
    "6. Final Response: After processing all tool results, the model will generate a final response that incorporates information from all the tools used.\n",
    "\n",
    "7. Implementation Considerations: \n",
    "   - Ensure your code can handle variable numbers of tool requests\n",
    "   - Implement error handling for cases where a tool might fail\n",
    "   - Consider setting appropriate timeouts for tool executions\n",
    "\n",
    "8. Best Practices:\n",
    "   - Test your implementation with various scenarios, including multiple tool requests\n",
    "   - Monitor and log tool usage for debugging and optimization\n",
    "   - Regularly review and update your tool definitions to ensure they remain relevant and secure\n",
    "\n",
    "Remember to always follow AWS best practices for security and compliance when implementing tool use with the Bedrock Converse API. For the most up-to-date and detailed information on implementing multiple tool use, please refer to the official AWS Bedrock documentation.\n",
    "Sources\n",
    "[1] [Call a tool with the Converse API - Amazon Bedrock] (https://docs.aws.amazon.com/bedrock/latest/userguide/tool-use-inference-call.html)\n",
    "[3] [Returning tool results - Amazon Nova] (https://docs.aws.amazon.com/nova/latest/userguide/tool-use-results.html)\n",
    "[6] [Community | Intro to Tool Use with the Amazon Bedrock Converse API] (https://community.aws/content/2hW5367isgQOkkXLYjp4JB3Pe16/intro-to-tool-use-with-the-amazon-bedrock-converse-api)"
   ]
  }
 ],
 "metadata": {
  "kernelspec": {
   "display_name": "Python 3 (ipykernel)",
   "language": "python",
   "name": "python3"
  },
  "language_info": {
   "codemirror_mode": {
    "name": "ipython",
    "version": 3
   },
   "file_extension": ".py",
   "mimetype": "text/x-python",
   "name": "python",
   "nbconvert_exporter": "python",
   "pygments_lexer": "ipython3",
   "version": "3.12.3"
  }
 },
 "nbformat": 4,
 "nbformat_minor": 5
}
