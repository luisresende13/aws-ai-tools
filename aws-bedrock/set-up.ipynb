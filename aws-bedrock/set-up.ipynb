{
 "cells": [
  {
   "cell_type": "markdown",
   "id": "7ef2947b-2181-4c1e-ac2f-95f88103ad55",
   "metadata": {},
   "source": [
    "# Bedrock - Getting started with the python API"
   ]
  },
  {
   "cell_type": "markdown",
   "id": "c1669908-7715-47b0-afd5-4119e7aa7081",
   "metadata": {},
   "source": [
    "- Documentation Root: [Bedrock Documentation Root](https://docs.aws.amazon.com/bedrock/)\n",
    "- Quickstart: https://docs.aws.amazon.com/bedrock/latest/userguide/getting-started-api.html "
   ]
  },
  {
   "cell_type": "markdown",
   "id": "dc43421e-b8f9-4436-b602-37c0ab3ede78",
   "metadata": {},
   "source": [
    "### Requirements:\n",
    "- AWS IAM user\n",
    "- IAM user access key\n",
    "- awscli installed\n",
    "- awscli configured\n",
    "\n",
    "Obs: Check the quickstart from the user-guide for instructions on how to set up the pre-requisites."
   ]
  },
  {
   "cell_type": "markdown",
   "id": "e0453aaf-b4f0-4a62-a740-03af8f97d81e",
   "metadata": {},
   "source": [
    "---"
   ]
  },
  {
   "cell_type": "markdown",
   "id": "647db332-d74f-4d74-acd9-de74d10ebfc8",
   "metadata": {},
   "source": [
    "## Attach Amazon Bedrock permissions to a user or role"
   ]
  },
  {
   "cell_type": "markdown",
   "id": "e1f3618f-49bd-4652-b1ed-c0f44458b57c",
   "metadata": {},
   "source": [
    "The permission json that needs to be attache. Save it into a input.json file:\n",
    "\n",
    "```json\n",
    "{\n",
    "  \"Version\": \"2012-10-17\",\n",
    "  \"Statement\": [\n",
    "      {\n",
    "          \"Sid\": \"MarketplaceBedrock\",\n",
    "          \"Effect\": \"Allow\",\n",
    "          \"Action\": [\n",
    "              \"aws-marketplace:ViewSubscriptions\",\n",
    "              \"aws-marketplace:Unsubscribe\",\n",
    "              \"aws-marketplace:Subscribe\"\n",
    "          ],\n",
    "          \"Resource\": \"*\"\n",
    "      }\n",
    "  ]\n",
    "}\n",
    "```"
   ]
  },
  {
   "cell_type": "markdown",
   "id": "5ce0ab03-d4b4-4651-889e-079bb1a113bc",
   "metadata": {},
   "source": [
    "### Using the console"
   ]
  },
  {
   "cell_type": "markdown",
   "id": "d2bc2dd2-0974-45c1-ab91-8a516f95894b",
   "metadata": {},
   "source": [
    "After setting up credentials for programmatic access, you need to configure permissions for a user or IAM role to have access a set of Amazon Bedrock-related actions. To set up these permissions, do the following:\n",
    "\n",
    "1. On the AWS Management Console Home page, select the IAM service or navigate to the IAM console at https://console.aws.amazon.com/iam/\n",
    "\n",
    "2. Select Users or Roles and then select your user or role.\n",
    "\n",
    "3. In the Permissions tab, choose Add permissions and then choose Add AWS managed policy. Choose the AmazonBedrockFullAccess AWS managed policy.\n",
    "\n",
    "4. To allow the user or role to subscribe to models, choose Create inline policy and then specify the permissions json file above in the JSON editor."
   ]
  },
  {
   "cell_type": "markdown",
   "id": "2fcf4672-c5be-419a-948a-7e7db09fae89",
   "metadata": {},
   "source": [
    "### Using awscli"
   ]
  },
  {
   "cell_type": "markdown",
   "id": "9ecef8c5-cf14-464b-8fce-2950a9dd683c",
   "metadata": {},
   "source": [
    "#### Step 2: Attach Managed Policy (`AmazonBedrockFullAccess`) to the IAM User or Role\n",
    "\n",
    "Use the following AWS CLI command to attach the `AmazonBedrockFullAccess` policy to your IAM user or role.\n",
    "\n",
    "##### For an IAM User:\n",
    "```bash\n",
    "aws iam attach-user-policy --user-name YOUR_USER_NAME --policy-arn arn:aws:iam::aws:policy/AmazonBedrockFullAccess\n",
    "```\n",
    "\n",
    "Replace `YOUR_USER_NAME` with the name of the IAM user to which you want to attach the policy.\n",
    "\n",
    "##### For an IAM Role:\n",
    "```bash\n",
    "aws iam attach-role-policy --role-name YOUR_ROLE_NAME --policy-arn arn:aws:iam::aws:policy/AmazonBedrockFullAccess\n",
    "```\n",
    "\n",
    "Replace `YOUR_ROLE_NAME` with the name of the IAM role.\n",
    "\n",
    "#### Step 3: Create an Inline Policy for Subscription Permissions\n",
    "\n",
    "To allow the user or role to subscribe to models, you'll need to create an inline policy that grants the necessary permissions (`aws-marketplace:ViewSubscriptions`, `aws-marketplace:Unsubscribe`, and `aws-marketplace:Subscribe`).\n",
    "\n",
    "##### For an IAM User:\n",
    "```bash\n",
    "aws iam put-user-policy --user-name YOUR_USER_NAME --policy-name MarketplaceBedrockInlinePolicy --policy-document 'file://input.json'\n",
    "```\n",
    "\n",
    "##### For an IAM Role:\n",
    "```bash\n",
    "aws iam put-role-policy --role-name YOUR_ROLE_NAME --policy-name MarketplaceBedrockInlinePolicy --policy-document 'file://input.json'\n",
    "```\n",
    "\n",
    "Replace `YOUR_USER_NAME` or `YOUR_ROLE_NAME` with the appropriate IAM user or role name and the correct path to the json file.\n",
    "\n",
    "#### Step 4: Verify Permissions\n",
    "\n",
    "To verify the permissions are successfully attached to the IAM user or role, you can use the following commands:\n",
    "\n",
    "##### For an IAM User:\n",
    "```bash\n",
    "aws iam list-attached-user-policies --user-name YOUR_USER_NAME\n",
    "aws iam list-user-policies --user-name YOUR_USER_NAME\n",
    "```\n",
    "\n",
    "##### For an IAM Role:\n",
    "```bash\n",
    "aws iam list-attached-role-policies --role-name YOUR_ROLE_NAME\n",
    "aws iam list-role-policies --role-name YOUR_ROLE_NAME\n",
    "```\n",
    "\n",
    "These commands will list the attached managed and inline policies for the user or role."
   ]
  },
  {
   "cell_type": "markdown",
   "id": "c7fd33e7-bdcd-4acd-a5ec-33e5a00ee73d",
   "metadata": {},
   "source": [
    "---"
   ]
  },
  {
   "cell_type": "markdown",
   "id": "f8be82a6-cfb4-42ee-8dca-f2765c8f403c",
   "metadata": {},
   "source": [
    "## Request access to Amazon Bedrock models\n",
    "\n",
    "Request access to the Amazon Bedrock models through the Amazon Bedrock console by following the steps at [Request access to an Amazon Bedrock foundation model](https://docs.aws.amazon.com/bedrock/latest/userguide/getting-started.html#getting-started-model-access)."
   ]
  },
  {
   "cell_type": "markdown",
   "id": "7ac468a6-082e-4107-90e7-3cde53a2b76a",
   "metadata": {},
   "source": [
    "---"
   ]
  },
  {
   "cell_type": "markdown",
   "id": "9f593b56-0703-49f5-aa22-fa557fe17d53",
   "metadata": {},
   "source": [
    "#### **Step 3: List Available Models**\n",
    "Check the foundational models (FMs) available through AWS Bedrock:"
   ]
  },
  {
   "cell_type": "code",
   "execution_count": 2,
   "id": "a9023f8f-299a-4629-990c-a1a2c3b97d36",
   "metadata": {},
   "outputs": [
    {
     "data": {
      "text/html": [
       "<div>\n",
       "<style scoped>\n",
       "    .dataframe tbody tr th:only-of-type {\n",
       "        vertical-align: middle;\n",
       "    }\n",
       "\n",
       "    .dataframe tbody tr th {\n",
       "        vertical-align: top;\n",
       "    }\n",
       "\n",
       "    .dataframe thead th {\n",
       "        text-align: right;\n",
       "    }\n",
       "</style>\n",
       "<table border=\"1\" class=\"dataframe\">\n",
       "  <thead>\n",
       "    <tr style=\"text-align: right;\">\n",
       "      <th></th>\n",
       "      <th>modelArn</th>\n",
       "      <th>modelId</th>\n",
       "      <th>modelName</th>\n",
       "      <th>providerName</th>\n",
       "      <th>inputModalities</th>\n",
       "      <th>outputModalities</th>\n",
       "      <th>responseStreamingSupported</th>\n",
       "      <th>customizationsSupported</th>\n",
       "      <th>inferenceTypesSupported</th>\n",
       "      <th>modelLifecycle</th>\n",
       "    </tr>\n",
       "  </thead>\n",
       "  <tbody>\n",
       "    <tr>\n",
       "      <th>0</th>\n",
       "      <td>arn:aws:bedrock:us-east-1::foundation-model/am...</td>\n",
       "      <td>amazon.titan-tg1-large</td>\n",
       "      <td>Titan Text Large</td>\n",
       "      <td>Amazon</td>\n",
       "      <td>[TEXT]</td>\n",
       "      <td>[TEXT]</td>\n",
       "      <td>True</td>\n",
       "      <td>[]</td>\n",
       "      <td>[ON_DEMAND]</td>\n",
       "      <td>{'status': 'ACTIVE'}</td>\n",
       "    </tr>\n",
       "    <tr>\n",
       "      <th>1</th>\n",
       "      <td>arn:aws:bedrock:us-east-1::foundation-model/am...</td>\n",
       "      <td>amazon.titan-image-generator-v1:0</td>\n",
       "      <td>Titan Image Generator G1</td>\n",
       "      <td>Amazon</td>\n",
       "      <td>[TEXT, IMAGE]</td>\n",
       "      <td>[IMAGE]</td>\n",
       "      <td>NaN</td>\n",
       "      <td>[FINE_TUNING]</td>\n",
       "      <td>[PROVISIONED]</td>\n",
       "      <td>{'status': 'ACTIVE'}</td>\n",
       "    </tr>\n",
       "    <tr>\n",
       "      <th>2</th>\n",
       "      <td>arn:aws:bedrock:us-east-1::foundation-model/am...</td>\n",
       "      <td>amazon.titan-image-generator-v1</td>\n",
       "      <td>Titan Image Generator G1</td>\n",
       "      <td>Amazon</td>\n",
       "      <td>[TEXT, IMAGE]</td>\n",
       "      <td>[IMAGE]</td>\n",
       "      <td>NaN</td>\n",
       "      <td>[]</td>\n",
       "      <td>[ON_DEMAND]</td>\n",
       "      <td>{'status': 'ACTIVE'}</td>\n",
       "    </tr>\n",
       "    <tr>\n",
       "      <th>3</th>\n",
       "      <td>arn:aws:bedrock:us-east-1::foundation-model/am...</td>\n",
       "      <td>amazon.titan-image-generator-v2:0</td>\n",
       "      <td>Titan Image Generator G1 v2</td>\n",
       "      <td>Amazon</td>\n",
       "      <td>[TEXT, IMAGE]</td>\n",
       "      <td>[IMAGE]</td>\n",
       "      <td>NaN</td>\n",
       "      <td>[FINE_TUNING]</td>\n",
       "      <td>[PROVISIONED, ON_DEMAND]</td>\n",
       "      <td>{'status': 'ACTIVE'}</td>\n",
       "    </tr>\n",
       "    <tr>\n",
       "      <th>4</th>\n",
       "      <td>arn:aws:bedrock:us-east-1::foundation-model/am...</td>\n",
       "      <td>amazon.titan-text-premier-v1:0</td>\n",
       "      <td>Titan Text G1 - Premier</td>\n",
       "      <td>Amazon</td>\n",
       "      <td>[TEXT]</td>\n",
       "      <td>[TEXT]</td>\n",
       "      <td>True</td>\n",
       "      <td>[]</td>\n",
       "      <td>[ON_DEMAND]</td>\n",
       "      <td>{'status': 'ACTIVE'}</td>\n",
       "    </tr>\n",
       "  </tbody>\n",
       "</table>\n",
       "</div>"
      ],
      "text/plain": [
       "                                            modelArn  \\\n",
       "0  arn:aws:bedrock:us-east-1::foundation-model/am...   \n",
       "1  arn:aws:bedrock:us-east-1::foundation-model/am...   \n",
       "2  arn:aws:bedrock:us-east-1::foundation-model/am...   \n",
       "3  arn:aws:bedrock:us-east-1::foundation-model/am...   \n",
       "4  arn:aws:bedrock:us-east-1::foundation-model/am...   \n",
       "\n",
       "                             modelId                    modelName  \\\n",
       "0             amazon.titan-tg1-large             Titan Text Large   \n",
       "1  amazon.titan-image-generator-v1:0     Titan Image Generator G1   \n",
       "2    amazon.titan-image-generator-v1     Titan Image Generator G1   \n",
       "3  amazon.titan-image-generator-v2:0  Titan Image Generator G1 v2   \n",
       "4     amazon.titan-text-premier-v1:0      Titan Text G1 - Premier   \n",
       "\n",
       "  providerName inputModalities outputModalities responseStreamingSupported  \\\n",
       "0       Amazon          [TEXT]           [TEXT]                       True   \n",
       "1       Amazon   [TEXT, IMAGE]          [IMAGE]                        NaN   \n",
       "2       Amazon   [TEXT, IMAGE]          [IMAGE]                        NaN   \n",
       "3       Amazon   [TEXT, IMAGE]          [IMAGE]                        NaN   \n",
       "4       Amazon          [TEXT]           [TEXT]                       True   \n",
       "\n",
       "  customizationsSupported   inferenceTypesSupported        modelLifecycle  \n",
       "0                      []               [ON_DEMAND]  {'status': 'ACTIVE'}  \n",
       "1           [FINE_TUNING]             [PROVISIONED]  {'status': 'ACTIVE'}  \n",
       "2                      []               [ON_DEMAND]  {'status': 'ACTIVE'}  \n",
       "3           [FINE_TUNING]  [PROVISIONED, ON_DEMAND]  {'status': 'ACTIVE'}  \n",
       "4                      []               [ON_DEMAND]  {'status': 'ACTIVE'}  "
      ]
     },
     "execution_count": 2,
     "metadata": {},
     "output_type": "execute_result"
    }
   ],
   "source": [
    "import boto3\n",
    "\n",
    "# Create an Amazon Bedrock Runtime client.\n",
    "bedrock = boto3.client(\"bedrock\")\n",
    "\n",
    "# List models\n",
    "response = bedrock.list_foundation_models()\n",
    "models = response.get(\"modelSummaries\", [])\n",
    "\n",
    "import pandas as pd\n",
    "pd.DataFrame(models).head()"
   ]
  },
  {
   "cell_type": "markdown",
   "id": "e1d4f6e6-548c-49ec-83b1-e496967dbc51",
   "metadata": {},
   "source": [
    "---"
   ]
  },
  {
   "cell_type": "markdown",
   "id": "366b34a0-77cb-4fc7-b828-1c4d967b9fea",
   "metadata": {},
   "source": [
    "## Submit a text prompt to a model and generate a text response with InvokeModel\n",
    "\n",
    "- Reference Documentaion: https://docs.aws.amazon.com/bedrock/latest/userguide/getting-started-api-ex-python.html\n",
    "\n",
    "The following example runs the InvokeModel operation using an Amazon Bedrock client. InvokeModel lets you submit a prompt to generate a model response. Run the following SDK for Python script to create an Amazon Bedrock runtime client and generate a text response with the operation:"
   ]
  },
  {
   "cell_type": "code",
   "execution_count": 1,
   "id": "5c1a639d-2e48-4607-895a-89c14b736a6e",
   "metadata": {},
   "outputs": [
    {
     "name": "stdout",
     "output_type": "stream",
     "text": [
      "\n",
      "A 'hello world' program serves as a basic introduction to programming and demonstrates the fundamental syntax and structure of a programming language.\n"
     ]
    }
   ],
   "source": [
    "# Use the native inference API to send a text message to Amazon Titan Text G1 - Express.\n",
    "\n",
    "import boto3\n",
    "import json\n",
    "\n",
    "from botocore.exceptions import ClientError\n",
    "\n",
    "# Create an Amazon Bedrock Runtime client.\n",
    "brt = boto3.client(\"bedrock-runtime\")\n",
    "\n",
    "# Set the model ID, e.g., Amazon Titan Text G1 - Express.\n",
    "model_id = \"amazon.titan-text-express-v1\"\n",
    "\n",
    "# Define the prompt for the model.\n",
    "prompt = \"Describe the purpose of a 'hello world' program in one line.\"\n",
    "\n",
    "# Format the request payload using the model's native structure.\n",
    "native_request = {\n",
    "    \"inputText\": prompt,\n",
    "    \"textGenerationConfig\": {\n",
    "        \"maxTokenCount\": 512,\n",
    "        \"temperature\": 0.5,\n",
    "        \"topP\": 0.9\n",
    "    },\n",
    "}\n",
    "\n",
    "# Convert the native request to JSON.\n",
    "request = json.dumps(native_request)\n",
    "\n",
    "try:\n",
    "    # Invoke the model with the request.\n",
    "    response = brt.invoke_model(modelId=model_id, body=request)\n",
    "\n",
    "except (ClientError, Exception) as e:\n",
    "    print(f\"ERROR: Can't invoke '{model_id}'. Reason: {e}\")\n",
    "    exit(1)\n",
    "\n",
    "# Decode the response body.\n",
    "model_response = json.loads(response[\"body\"].read())\n",
    "\n",
    "# Extract and print the response text.\n",
    "response_text = model_response[\"results\"][0][\"outputText\"]\n",
    "print(response_text)"
   ]
  },
  {
   "cell_type": "markdown",
   "id": "11c23b62-ec2e-4af2-93ae-9b0f947ddb56",
   "metadata": {},
   "source": [
    "If the command is successful, the response returns the text generated by the model in response to the prompt."
   ]
  },
  {
   "cell_type": "markdown",
   "id": "0143adcb-d0ac-4462-9d81-ba9ac43ad8fe",
   "metadata": {},
   "source": [
    "---"
   ]
  },
  {
   "cell_type": "markdown",
   "id": "c6cbe042-0e43-4d25-ad3e-0e5e38bd684e",
   "metadata": {},
   "source": [
    "## Submit a text prompt to a model and generate a text response with Converse\n",
    "\n",
    "The following example runs the Converse operation using an Amazon Bedrock client. We recommend using Converse operation over InvokeModel when supported, because it unifies the inference request across Amazon Bedrock models and simplifies the management of multi-turn conversations. Run the following SDK for Python script to create an Amazon Bedrock runtime client and generate a text response with the Converse operation:"
   ]
  },
  {
   "cell_type": "code",
   "execution_count": 2,
   "id": "91598b7b-a3c2-4b46-b46a-f220b630c373",
   "metadata": {},
   "outputs": [
    {
     "name": "stdout",
     "output_type": "stream",
     "text": [
      "\n",
      "\n",
      "A 'hello world' program in one line is a basic computer program that outputs the phrase \"hello world\" to the console. It serves as a fundamental example of how to write and execute a program in a particular programming language.\n"
     ]
    }
   ],
   "source": [
    "# Use the Conversation API to send a text message to Amazon Titan Text G1 - Express.\n",
    "\n",
    "import boto3\n",
    "from botocore.exceptions import ClientError\n",
    "\n",
    "# Create an Amazon Bedrock Runtime client.\n",
    "brt = boto3.client(\"bedrock-runtime\")\n",
    "\n",
    "# Set the model ID, e.g., Amazon Titan Text G1 - Express.\n",
    "model_id = \"amazon.titan-text-express-v1\"\n",
    "\n",
    "# Start a conversation with the user message.\n",
    "user_message = \"Describe the purpose of a 'hello world' program in one line.\"\n",
    "conversation = [\n",
    "    {\n",
    "        \"role\": \"user\",\n",
    "        \"content\": [{\"text\": user_message}],\n",
    "    }\n",
    "]\n",
    "\n",
    "try:\n",
    "    # Send the message to the model, using a basic inference configuration.\n",
    "    response = brt.converse(\n",
    "        modelId=model_id,\n",
    "        messages=conversation,\n",
    "        inferenceConfig={\"maxTokens\": 512, \"temperature\": 0.5, \"topP\": 0.9},\n",
    "    )\n",
    "\n",
    "    # Extract and print the response text.\n",
    "    response_text = response[\"output\"][\"message\"][\"content\"][0][\"text\"]\n",
    "    print(response_text)\n",
    "\n",
    "except (ClientError, Exception) as e:\n",
    "    print(f\"ERROR: Can't invoke '{model_id}'. Reason: {e}\")\n",
    "    exit(1)"
   ]
  },
  {
   "cell_type": "markdown",
   "id": "1c5aeb48-fa6d-428b-b7d7-5f85fd8d3247",
   "metadata": {},
   "source": [
    "If the command is successful, the response returns the text generated by the model in response to the prompt."
   ]
  }
 ],
 "metadata": {
  "kernelspec": {
   "display_name": "Python 3 (ipykernel)",
   "language": "python",
   "name": "python3"
  },
  "language_info": {
   "codemirror_mode": {
    "name": "ipython",
    "version": 3
   },
   "file_extension": ".py",
   "mimetype": "text/x-python",
   "name": "python",
   "nbconvert_exporter": "python",
   "pygments_lexer": "ipython3",
   "version": "3.12.3"
  }
 },
 "nbformat": 4,
 "nbformat_minor": 5
}
