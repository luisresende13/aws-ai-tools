{
 "cells": [
  {
   "cell_type": "markdown",
   "id": "7fa54183-d833-403a-ac85-2bab777efbff",
   "metadata": {},
   "source": [
    "# Pre-requisites for AWS Glue Connection to MySQL Server in EC2 instance"
   ]
  },
  {
   "cell_type": "markdown",
   "id": "7541414b-d804-4d33-a78f-94ae15d9da12",
   "metadata": {},
   "source": [
    "### Step 1: Set up a Security Group"
   ]
  },
  {
   "cell_type": "markdown",
   "id": "fb5444ae-96b2-4a93-ba61-6ee5a3d267dc",
   "metadata": {},
   "source": [
    "When creating a security group for your AWS Glue connection, you need to set up the appropriate inbound rules. For AWS Glue to communicate between its components, you should create a self-referencing inbound rule. This means the source IP should be the same security group.\n",
    "\n",
    "Here’s how you can set it up:\n",
    "\n",
    "1. **Type**: All TCP\n",
    "2. **Protocol**: TCP\n",
    "3. **Port Range**: 0-65535\n",
    "4. **Source**: The security group ID itself (e.g., `sg-xxxxxxxx`)\n",
    "\n",
    "This self-referencing rule allows AWS Glue components to communicate with each other within the VPC without exposing the security group to all networks."
   ]
  },
  {
   "cell_type": "markdown",
   "id": "59a37395-8b24-4d0e-9bf1-28ca66762ca9",
   "metadata": {},
   "source": [
    "---"
   ]
  },
  {
   "cell_type": "markdown",
   "id": "f14ac461-8daf-44bc-a7de-4ff09f37ec35",
   "metadata": {},
   "source": [
    "For the outbound rules in your security group for AWS Glue, you generally want to allow all outbound traffic. This ensures that your AWS Glue jobs can communicate with any external services they need to access. Here’s how you can set it up:\n",
    "\n",
    "1. **Type**: All traffic\n",
    "2. **Protocol**: All\n",
    "3. **Port Range**: 0-65535\n",
    "4. **Destination**: 0.0.0.0/0 (This allows outbound traffic to any IP address)\n",
    "\n",
    "This configuration allows your AWS Glue jobs to send traffic to any destination, which is typically what you want for outbound rules."
   ]
  },
  {
   "cell_type": "markdown",
   "id": "e81f7cf9-070c-4bd9-9fad-579fd927d151",
   "metadata": {},
   "source": [
    "---"
   ]
  },
  {
   "cell_type": "markdown",
   "id": "67d33ceb-bb71-4138-a0d6-6c45d3657f2e",
   "metadata": {},
   "source": [
    "An error occurs if the subnet you specified for your AWS Glue connection does not have an Amazon S3 VPC endpoint or a NAT gateway configured. AWS Glue needs either an S3 VPC endpoint or a NAT gateway to access Amazon S3 from within your VPC.\n",
    "\n",
    "Here's how you can avoid this issue:\n",
    "\n",
    "### Step 2: Set Up an S3 VPC Endpoint\n",
    "1. **Open the Amazon VPC Console**: Go to the [Amazon VPC Console](https://us-east-1.console.aws.amazon.com/vpc/home?region=us-east-1#Endpoints).\n",
    "2. **Create Endpoint**:\n",
    "   - In the navigation pane, choose **Endpoints**.\n",
    "   - Click on **Create Endpoint**.\n",
    "   - For **Service name**, select `com.amazonaws.<region>.s3` (replace `<region>` with your AWS region).\n",
    "   - For **Type**, choose **Gateway**.\n",
    "   - For **VPC**, select the VPC where you want to create the endpoint.\n",
    "   - For **Configure route tables**, a route to the S3 VPC endpoint is automatically added.\n",
    "   - For **Policy**, keep the default option **Full Access**.\n",
    "   - Click on **Create endpoint**."
   ]
  },
  {
   "cell_type": "markdown",
   "id": "077fa60e-e9d1-4405-83d1-c44769dd348d",
   "metadata": {},
   "source": [
    "---"
   ]
  },
  {
   "cell_type": "markdown",
   "id": "48e33f60-a177-4609-8fe3-6eb31dbc4f99",
   "metadata": {},
   "source": [
    "### Step 3: Set Up a NAT Gateway\n",
    "1. **Open the Amazon VPC Console**: Go to the [Amazon VPC Console](https://us-east-1.console.aws.amazon.com/vpc/home?region=us-east-1#NATGateways).\n",
    "\n",
    "2. **Create and Attach Internet Gateway**: A NAT gateway must be created in a VPC with an internet gateway. Make sure that your VPC has an internet gateway attached. If not, create and attach an internet gateway to your VPC.\n",
    "3. **Create NAT Gateway**:\n",
    "   - In the navigation pane, choose **NAT Gateways**.\n",
    "   - Click on **Create NAT Gateway**.\n",
    "   - For **Name**, enter the name of the gateway.\n",
    "   - For **Subnet**, select a public subnet in the VPC that you specified in the AWS Glue connection.\n",
    "   - For **Connectivity type**, keep the default option **Public**.\n",
    "   - Click on **Create NAT Gateway**.\n",
    "4. **Modify Route Table**:\n",
    "   - After setting up the NAT gateway, modify the route table associated with the AWS Glue connection's subnet to route traffic to the NAT gateway.\n",
    "\n",
    "For more detailed instructions, you can refer to the [AWS Knowledge Center](https://repost.aws/knowledge-center/glue-s3-endpoint-validation-failed)."
   ]
  },
  {
   "cell_type": "markdown",
   "id": "014fc34a-84c3-44df-9fce-1f1d478074b1",
   "metadata": {},
   "source": [
    "---"
   ]
  },
  {
   "cell_type": "markdown",
   "id": "1a9e624c-7558-4ee9-bbc8-1de1fd345085",
   "metadata": {},
   "source": [
    "### Step 4: Modify Route Table for Subnet\n",
    "\n",
    "Here’s how you can modify the route table to route traffic to the NAT gateway:\n",
    "\n",
    "1. **Select the Route Table**: Make sure you have selected the correct route table associated with your subnet.\n",
    "2. **Add a Route**:\n",
    "   - Click on the **Routes** tab.\n",
    "   - Click on **Edit routes**.\n",
    "   - Click on **Add route**.\n",
    "3. **Configure the Route**:\n",
    "   - **Destination**: Enter `0.0.0.0/0` to allow all outbound traffic.\n",
    "   - **Target**: Select the NAT gateway ID from the dropdown list (e.g., `nat-xxxxxxxx`).\n",
    "4. **Save the Route**: Click on **Save routes** to apply the changes.\n",
    "\n",
    "This will route all outbound traffic from your subnet through the NAT gateway, allowing your AWS Glue jobs to access the internet and other AWS services."
   ]
  }
 ],
 "metadata": {
  "kernelspec": {
   "display_name": "Python 3 (ipykernel)",
   "language": "python",
   "name": "python3"
  },
  "language_info": {
   "codemirror_mode": {
    "name": "ipython",
    "version": 3
   },
   "file_extension": ".py",
   "mimetype": "text/x-python",
   "name": "python",
   "nbconvert_exporter": "python",
   "pygments_lexer": "ipython3",
   "version": "3.13.0"
  }
 },
 "nbformat": 4,
 "nbformat_minor": 5
}
