{
 "cells": [
  {
   "cell_type": "markdown",
   "id": "75574483-3690-4d45-8220-15eef7758aed",
   "metadata": {},
   "source": [
    "# Fetch Table from MySQL Server and Upload to S3 as csv"
   ]
  },
  {
   "cell_type": "markdown",
   "id": "958d5f05-7108-4e67-80de-b1a9b74d30b9",
   "metadata": {},
   "source": [
    "#### Configuration"
   ]
  },
  {
   "cell_type": "code",
   "execution_count": null,
   "id": "0de4c3f3-89fe-4adb-b842-fc91e1a0ad39",
   "metadata": {},
   "outputs": [],
   "source": [
    "# Table to export\n",
    "table_name = '<table-name>'\n",
    "\n",
    "# MySQL query\n",
    "query = f\"SELECT * FROM {table_name} LIMIT 50\"\n",
    "\n",
    "# Output CSV file\n",
    "output_file = f'{table_name}.csv'\n",
    "\n",
    "# MySQL connection parameters\n",
    "mysql_config = {\n",
    "    'host': '<ec2-external-ip>',\n",
    "    'user': '<database-user>',\n",
    "    'password': '<database-password>',\n",
    "    'database': '<database-name>'\n",
    "}"
   ]
  },
  {
   "cell_type": "markdown",
   "id": "e971ac74-4db9-4f2b-bfd7-3a0ef639729a",
   "metadata": {},
   "source": [
    "#### Data Type Conversion Function"
   ]
  },
  {
   "cell_type": "code",
   "execution_count": 20,
   "id": "a3ff3fbc-7cb8-4662-8f72-43d324694fcd",
   "metadata": {},
   "outputs": [],
   "source": [
    "def convert_data_type(rows):\n",
    "    i = 0\n",
    "    for row in rows:\n",
    "        row_list = list(row)\n",
    "        \n",
    "        j = 0\n",
    "        for item in row:\n",
    "            if type(item) in [datetime.date, datetime.datetime]:\n",
    "                row_list[j] = str(item)\n",
    "\n",
    "            elif item is None:\n",
    "                row_list[j] = ''\n",
    "                \n",
    "            j += 1\n",
    "    \n",
    "        row = tuple(row_list)\n",
    "        rows[i] = row\n",
    "        i += 1\n",
    "\n",
    "    return rows"
   ]
  },
  {
   "cell_type": "markdown",
   "id": "0a1a73eb-b154-4186-867d-ee6ad13233aa",
   "metadata": {},
   "source": [
    "#### Fetch table rows"
   ]
  },
  {
   "cell_type": "code",
   "execution_count": null,
   "id": "c46628b3-e1ee-42f4-8d40-a7e9fe7b7fa9",
   "metadata": {},
   "outputs": [],
   "source": [
    "import mysql.connector\n",
    "import csv\n",
    "import datetime\n",
    "\n",
    "# Connect to MySQL\n",
    "conn = mysql.connector.connect(**mysql_config)\n",
    "cursor = conn.cursor()\n",
    "\n",
    "# Execute query\n",
    "cursor.execute(query)\n",
    "\n",
    "# Fetch all rows\n",
    "rows = cursor.fetchall()\n",
    "\n",
    "# Get column names\n",
    "column_names = [i[0] for i in cursor.description]\n",
    "\n",
    "# Convert data type\n",
    "rows = convert_data_type(rows)\n",
    "\n",
    "# Close connection\n",
    "cursor.close()\n",
    "conn.close()"
   ]
  },
  {
   "cell_type": "markdown",
   "id": "c01b79e5-a713-4582-9f11-81e07e23bbb8",
   "metadata": {},
   "source": [
    "#### Save table as csv"
   ]
  },
  {
   "cell_type": "code",
   "execution_count": null,
   "id": "63bf5dcf-dbb7-4d8b-98d5-298e6f774258",
   "metadata": {},
   "outputs": [],
   "source": [
    "# Write to CSV\n",
    "with open(output_file, 'w', newline='') as csvfile:\n",
    "    csvwriter = csv.writer(csvfile)\n",
    "    csvwriter.writerow(column_names)  # Write header\n",
    "    csvwriter.writerows(rows)  # Write data\n",
    "\n",
    "print(f\"Data exported to {output_file}\")"
   ]
  },
  {
   "cell_type": "markdown",
   "id": "85231c29-d7f1-44c5-9b99-d3ed8d6a750b",
   "metadata": {},
   "source": [
    "#### Upload to S3"
   ]
  },
  {
   "cell_type": "code",
   "execution_count": 27,
   "id": "eaaf08c6-da79-409a-a82f-98d5988ee2ef",
   "metadata": {},
   "outputs": [
    {
     "name": "stdout",
     "output_type": "stream",
     "text": [
      "Completed 10.1 KiB/10.1 KiB (9.7 KiB/s) with 1 file(s) remaining\n",
      "upload: .\\user.csv to s3://aas-glue/csv/fg_rt/user.csv          \n"
     ]
    }
   ],
   "source": [
    "!aws s3 cp user.csv s3://aas-glue/csv/fg_rt/user.csv"
   ]
  }
 ],
 "metadata": {
  "kernelspec": {
   "display_name": "Python 3 (ipykernel)",
   "language": "python",
   "name": "python3"
  },
  "language_info": {
   "codemirror_mode": {
    "name": "ipython",
    "version": 3
   },
   "file_extension": ".py",
   "mimetype": "text/x-python",
   "name": "python",
   "nbconvert_exporter": "python",
   "pygments_lexer": "ipython3",
   "version": "3.13.0"
  }
 },
 "nbformat": 4,
 "nbformat_minor": 5
}
